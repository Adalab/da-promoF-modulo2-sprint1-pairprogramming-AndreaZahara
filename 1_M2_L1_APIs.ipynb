{
 "cells": [
  {
   "cell_type": "code",
   "execution_count": null,
   "metadata": {},
   "outputs": [],
   "source": [
    "import pandas as pd\n",
    "import requests"
   ]
  },
  {
   "cell_type": "code",
   "execution_count": null,
   "metadata": {},
   "outputs": [],
   "source": [
    "def llamar_api(url_electrica):\n",
    "    llamada = requests.get(url_electrica)  # Realiza una solicitud GET a la URL proporcionada y almacena la respuesta en 'llamada'.\n",
    "\n",
    "    print(f\"La llamada a la API nos ha dado una respuesta de tipo: {llamada.status_code}\")  # Imprime el código de estado de la respuesta.\n",
    "\n",
    "    if llamada.status_code != 200:  # Comprueba si la respuesta no fue exitosa (código de estado distinto de 200).\n",
    "        print(f\"El motivo por el que la llamada falló es {llamada.reason}\")  # Imprime la razón de la falla.\n",
    "        print(llamada.json())\n",
    "    else:\n",
    "        return llamada.json()  # Si la llamada fue exitosa, devuelve los datos de respuesta en formato JSON.\n"
   ]
  },
  {
   "cell_type": "code",
   "execution_count": null,
   "metadata": {},
   "outputs": [],
   "source": [
    "url_electrica = f\"https://apidatos.ree.es/es/datos/generacion/evolucion-renovable-no-renovable?start_date=2011-01-01T00:00&end_date=2011-12-31T23:59&time_trunc=month\"\n",
    "resultados_energia = llamar_api(url_electrica)"
   ]
  },
  {
   "cell_type": "code",
   "execution_count": null,
   "metadata": {},
   "outputs": [],
   "source": [
    "resultados_energia.keys()"
   ]
  },
  {
   "cell_type": "code",
   "execution_count": null,
   "metadata": {},
   "outputs": [],
   "source": [
    "resultados_energia [\"data\"]"
   ]
  },
  {
   "cell_type": "code",
   "execution_count": null,
   "metadata": {},
   "outputs": [],
   "source": [
    "resultados_energia [\"included\"]"
   ]
  },
  {
   "cell_type": "code",
   "execution_count": null,
   "metadata": {},
   "outputs": [],
   "source": [
    "resultados_energia[\"included\"][0]"
   ]
  },
  {
   "cell_type": "code",
   "execution_count": null,
   "metadata": {},
   "outputs": [],
   "source": [
    "resultados_energia[\"included\"][0].keys()"
   ]
  },
  {
   "cell_type": "code",
   "execution_count": null,
   "metadata": {},
   "outputs": [],
   "source": [
    "resultados_energia[\"included\"][0][\"attributes\"]"
   ]
  },
  {
   "cell_type": "code",
   "execution_count": null,
   "metadata": {},
   "outputs": [],
   "source": [
    "resultados_energia[\"included\"][0][\"attributes\"][\"values\"]"
   ]
  },
  {
   "cell_type": "code",
   "execution_count": null,
   "metadata": {},
   "outputs": [],
   "source": [
    "diccionario_energia = {\"tipo de energia\": [], \"tipo generacion\":[], \"fecha\": [], \"valor\" :[]}"
   ]
  },
  {
   "cell_type": "code",
   "execution_count": 62,
   "metadata": {},
   "outputs": [
    {
     "name": "stdout",
     "output_type": "stream",
     "text": [
      "esta es la info de {'type': 'Renovable', 'id': '10299', 'groupId': None, 'attributes': {'title': 'Renovable', 'description': 'Energía renovable: incluye hidráulica, hidroeólica, eólica, solar fotovoltaica, solar térmica, otras renovables y residuos renovables.', 'color': '#92d050', 'type': 'Renovable', 'magnitude': None, 'composite': False, 'last-update': '2019-06-12T15:32:24.000+02:00', 'values': [{'value': 9918268.536, 'percentage': 0.3827907635999176, 'datetime': '2011-01-01T00:00:00.000+01:00'}, {'value': 7991499.8525, 'percentage': 0.34539728666246566, 'datetime': '2011-02-01T00:00:00.000+01:00'}, {'value': 9606067.697, 'percentage': 0.38313491871765465, 'datetime': '2011-03-01T00:00:00.000+01:00'}, {'value': 8123455.767, 'percentage': 0.374645327606978, 'datetime': '2011-04-01T00:00:00.000+02:00'}, {'value': 7251163.8615, 'percentage': 0.3315832492156598, 'datetime': '2011-05-01T00:00:00.000+02:00'}, {'value': 6452804.794, 'percentage': 0.28622384987819477, 'datetime': '2011-06-01T00:00:00.000+02:00'}, {'value': 6498576.444, 'percentage': 0.2712500834748904, 'datetime': '2011-07-01T00:00:00.000+02:00'}, {'value': 5727787.99, 'percentage': 0.24520399433014006, 'datetime': '2011-08-01T00:00:00.000+02:00'}, {'value': 4933369.656, 'percentage': 0.21408577261430467, 'datetime': '2011-09-01T00:00:00.000+02:00'}, {'value': 5622637.3765, 'percentage': 0.25282066301127765, 'datetime': '2011-10-01T00:00:00.000+02:00'}, {'value': 6825133.5855, 'percentage': 0.3015785344449875, 'datetime': '2011-11-01T00:00:00.000+01:00'}, {'value': 7716287.29, 'percentage': 0.32277637531821257, 'datetime': '2011-12-01T00:00:00.000+01:00'}]}}\n",
      "esta es la info de {'type': 'Renovable', 'id': '10299', 'groupId': None, 'attributes': {'title': 'Renovable', 'description': 'Energía renovable: incluye hidráulica, hidroeólica, eólica, solar fotovoltaica, solar térmica, otras renovables y residuos renovables.', 'color': '#92d050', 'type': 'Renovable', 'magnitude': None, 'composite': False, 'last-update': '2019-06-12T15:32:24.000+02:00', 'values': [{'value': 9918268.536, 'percentage': 0.3827907635999176, 'datetime': '2011-01-01T00:00:00.000+01:00'}, {'value': 7991499.8525, 'percentage': 0.34539728666246566, 'datetime': '2011-02-01T00:00:00.000+01:00'}, {'value': 9606067.697, 'percentage': 0.38313491871765465, 'datetime': '2011-03-01T00:00:00.000+01:00'}, {'value': 8123455.767, 'percentage': 0.374645327606978, 'datetime': '2011-04-01T00:00:00.000+02:00'}, {'value': 7251163.8615, 'percentage': 0.3315832492156598, 'datetime': '2011-05-01T00:00:00.000+02:00'}, {'value': 6452804.794, 'percentage': 0.28622384987819477, 'datetime': '2011-06-01T00:00:00.000+02:00'}, {'value': 6498576.444, 'percentage': 0.2712500834748904, 'datetime': '2011-07-01T00:00:00.000+02:00'}, {'value': 5727787.99, 'percentage': 0.24520399433014006, 'datetime': '2011-08-01T00:00:00.000+02:00'}, {'value': 4933369.656, 'percentage': 0.21408577261430467, 'datetime': '2011-09-01T00:00:00.000+02:00'}, {'value': 5622637.3765, 'percentage': 0.25282066301127765, 'datetime': '2011-10-01T00:00:00.000+02:00'}, {'value': 6825133.5855, 'percentage': 0.3015785344449875, 'datetime': '2011-11-01T00:00:00.000+01:00'}, {'value': 7716287.29, 'percentage': 0.32277637531821257, 'datetime': '2011-12-01T00:00:00.000+01:00'}]}}\n",
      "esta es la info de {'type': 'Renovable', 'id': '10299', 'groupId': None, 'attributes': {'title': 'Renovable', 'description': 'Energía renovable: incluye hidráulica, hidroeólica, eólica, solar fotovoltaica, solar térmica, otras renovables y residuos renovables.', 'color': '#92d050', 'type': 'Renovable', 'magnitude': None, 'composite': False, 'last-update': '2019-06-12T15:32:24.000+02:00', 'values': [{'value': 9918268.536, 'percentage': 0.3827907635999176, 'datetime': '2011-01-01T00:00:00.000+01:00'}, {'value': 7991499.8525, 'percentage': 0.34539728666246566, 'datetime': '2011-02-01T00:00:00.000+01:00'}, {'value': 9606067.697, 'percentage': 0.38313491871765465, 'datetime': '2011-03-01T00:00:00.000+01:00'}, {'value': 8123455.767, 'percentage': 0.374645327606978, 'datetime': '2011-04-01T00:00:00.000+02:00'}, {'value': 7251163.8615, 'percentage': 0.3315832492156598, 'datetime': '2011-05-01T00:00:00.000+02:00'}, {'value': 6452804.794, 'percentage': 0.28622384987819477, 'datetime': '2011-06-01T00:00:00.000+02:00'}, {'value': 6498576.444, 'percentage': 0.2712500834748904, 'datetime': '2011-07-01T00:00:00.000+02:00'}, {'value': 5727787.99, 'percentage': 0.24520399433014006, 'datetime': '2011-08-01T00:00:00.000+02:00'}, {'value': 4933369.656, 'percentage': 0.21408577261430467, 'datetime': '2011-09-01T00:00:00.000+02:00'}, {'value': 5622637.3765, 'percentage': 0.25282066301127765, 'datetime': '2011-10-01T00:00:00.000+02:00'}, {'value': 6825133.5855, 'percentage': 0.3015785344449875, 'datetime': '2011-11-01T00:00:00.000+01:00'}, {'value': 7716287.29, 'percentage': 0.32277637531821257, 'datetime': '2011-12-01T00:00:00.000+01:00'}]}}\n",
      "esta es la info de {'type': 'Renovable', 'id': '10299', 'groupId': None, 'attributes': {'title': 'Renovable', 'description': 'Energía renovable: incluye hidráulica, hidroeólica, eólica, solar fotovoltaica, solar térmica, otras renovables y residuos renovables.', 'color': '#92d050', 'type': 'Renovable', 'magnitude': None, 'composite': False, 'last-update': '2019-06-12T15:32:24.000+02:00', 'values': [{'value': 9918268.536, 'percentage': 0.3827907635999176, 'datetime': '2011-01-01T00:00:00.000+01:00'}, {'value': 7991499.8525, 'percentage': 0.34539728666246566, 'datetime': '2011-02-01T00:00:00.000+01:00'}, {'value': 9606067.697, 'percentage': 0.38313491871765465, 'datetime': '2011-03-01T00:00:00.000+01:00'}, {'value': 8123455.767, 'percentage': 0.374645327606978, 'datetime': '2011-04-01T00:00:00.000+02:00'}, {'value': 7251163.8615, 'percentage': 0.3315832492156598, 'datetime': '2011-05-01T00:00:00.000+02:00'}, {'value': 6452804.794, 'percentage': 0.28622384987819477, 'datetime': '2011-06-01T00:00:00.000+02:00'}, {'value': 6498576.444, 'percentage': 0.2712500834748904, 'datetime': '2011-07-01T00:00:00.000+02:00'}, {'value': 5727787.99, 'percentage': 0.24520399433014006, 'datetime': '2011-08-01T00:00:00.000+02:00'}, {'value': 4933369.656, 'percentage': 0.21408577261430467, 'datetime': '2011-09-01T00:00:00.000+02:00'}, {'value': 5622637.3765, 'percentage': 0.25282066301127765, 'datetime': '2011-10-01T00:00:00.000+02:00'}, {'value': 6825133.5855, 'percentage': 0.3015785344449875, 'datetime': '2011-11-01T00:00:00.000+01:00'}, {'value': 7716287.29, 'percentage': 0.32277637531821257, 'datetime': '2011-12-01T00:00:00.000+01:00'}]}}\n",
      "esta es la info de {'type': 'Renovable', 'id': '10299', 'groupId': None, 'attributes': {'title': 'Renovable', 'description': 'Energía renovable: incluye hidráulica, hidroeólica, eólica, solar fotovoltaica, solar térmica, otras renovables y residuos renovables.', 'color': '#92d050', 'type': 'Renovable', 'magnitude': None, 'composite': False, 'last-update': '2019-06-12T15:32:24.000+02:00', 'values': [{'value': 9918268.536, 'percentage': 0.3827907635999176, 'datetime': '2011-01-01T00:00:00.000+01:00'}, {'value': 7991499.8525, 'percentage': 0.34539728666246566, 'datetime': '2011-02-01T00:00:00.000+01:00'}, {'value': 9606067.697, 'percentage': 0.38313491871765465, 'datetime': '2011-03-01T00:00:00.000+01:00'}, {'value': 8123455.767, 'percentage': 0.374645327606978, 'datetime': '2011-04-01T00:00:00.000+02:00'}, {'value': 7251163.8615, 'percentage': 0.3315832492156598, 'datetime': '2011-05-01T00:00:00.000+02:00'}, {'value': 6452804.794, 'percentage': 0.28622384987819477, 'datetime': '2011-06-01T00:00:00.000+02:00'}, {'value': 6498576.444, 'percentage': 0.2712500834748904, 'datetime': '2011-07-01T00:00:00.000+02:00'}, {'value': 5727787.99, 'percentage': 0.24520399433014006, 'datetime': '2011-08-01T00:00:00.000+02:00'}, {'value': 4933369.656, 'percentage': 0.21408577261430467, 'datetime': '2011-09-01T00:00:00.000+02:00'}, {'value': 5622637.3765, 'percentage': 0.25282066301127765, 'datetime': '2011-10-01T00:00:00.000+02:00'}, {'value': 6825133.5855, 'percentage': 0.3015785344449875, 'datetime': '2011-11-01T00:00:00.000+01:00'}, {'value': 7716287.29, 'percentage': 0.32277637531821257, 'datetime': '2011-12-01T00:00:00.000+01:00'}]}}\n",
      "esta es la info de {'type': 'Renovable', 'id': '10299', 'groupId': None, 'attributes': {'title': 'Renovable', 'description': 'Energía renovable: incluye hidráulica, hidroeólica, eólica, solar fotovoltaica, solar térmica, otras renovables y residuos renovables.', 'color': '#92d050', 'type': 'Renovable', 'magnitude': None, 'composite': False, 'last-update': '2019-06-12T15:32:24.000+02:00', 'values': [{'value': 9918268.536, 'percentage': 0.3827907635999176, 'datetime': '2011-01-01T00:00:00.000+01:00'}, {'value': 7991499.8525, 'percentage': 0.34539728666246566, 'datetime': '2011-02-01T00:00:00.000+01:00'}, {'value': 9606067.697, 'percentage': 0.38313491871765465, 'datetime': '2011-03-01T00:00:00.000+01:00'}, {'value': 8123455.767, 'percentage': 0.374645327606978, 'datetime': '2011-04-01T00:00:00.000+02:00'}, {'value': 7251163.8615, 'percentage': 0.3315832492156598, 'datetime': '2011-05-01T00:00:00.000+02:00'}, {'value': 6452804.794, 'percentage': 0.28622384987819477, 'datetime': '2011-06-01T00:00:00.000+02:00'}, {'value': 6498576.444, 'percentage': 0.2712500834748904, 'datetime': '2011-07-01T00:00:00.000+02:00'}, {'value': 5727787.99, 'percentage': 0.24520399433014006, 'datetime': '2011-08-01T00:00:00.000+02:00'}, {'value': 4933369.656, 'percentage': 0.21408577261430467, 'datetime': '2011-09-01T00:00:00.000+02:00'}, {'value': 5622637.3765, 'percentage': 0.25282066301127765, 'datetime': '2011-10-01T00:00:00.000+02:00'}, {'value': 6825133.5855, 'percentage': 0.3015785344449875, 'datetime': '2011-11-01T00:00:00.000+01:00'}, {'value': 7716287.29, 'percentage': 0.32277637531821257, 'datetime': '2011-12-01T00:00:00.000+01:00'}]}}\n",
      "esta es la info de {'type': 'Renovable', 'id': '10299', 'groupId': None, 'attributes': {'title': 'Renovable', 'description': 'Energía renovable: incluye hidráulica, hidroeólica, eólica, solar fotovoltaica, solar térmica, otras renovables y residuos renovables.', 'color': '#92d050', 'type': 'Renovable', 'magnitude': None, 'composite': False, 'last-update': '2019-06-12T15:32:24.000+02:00', 'values': [{'value': 9918268.536, 'percentage': 0.3827907635999176, 'datetime': '2011-01-01T00:00:00.000+01:00'}, {'value': 7991499.8525, 'percentage': 0.34539728666246566, 'datetime': '2011-02-01T00:00:00.000+01:00'}, {'value': 9606067.697, 'percentage': 0.38313491871765465, 'datetime': '2011-03-01T00:00:00.000+01:00'}, {'value': 8123455.767, 'percentage': 0.374645327606978, 'datetime': '2011-04-01T00:00:00.000+02:00'}, {'value': 7251163.8615, 'percentage': 0.3315832492156598, 'datetime': '2011-05-01T00:00:00.000+02:00'}, {'value': 6452804.794, 'percentage': 0.28622384987819477, 'datetime': '2011-06-01T00:00:00.000+02:00'}, {'value': 6498576.444, 'percentage': 0.2712500834748904, 'datetime': '2011-07-01T00:00:00.000+02:00'}, {'value': 5727787.99, 'percentage': 0.24520399433014006, 'datetime': '2011-08-01T00:00:00.000+02:00'}, {'value': 4933369.656, 'percentage': 0.21408577261430467, 'datetime': '2011-09-01T00:00:00.000+02:00'}, {'value': 5622637.3765, 'percentage': 0.25282066301127765, 'datetime': '2011-10-01T00:00:00.000+02:00'}, {'value': 6825133.5855, 'percentage': 0.3015785344449875, 'datetime': '2011-11-01T00:00:00.000+01:00'}, {'value': 7716287.29, 'percentage': 0.32277637531821257, 'datetime': '2011-12-01T00:00:00.000+01:00'}]}}\n",
      "esta es la info de {'type': 'Renovable', 'id': '10299', 'groupId': None, 'attributes': {'title': 'Renovable', 'description': 'Energía renovable: incluye hidráulica, hidroeólica, eólica, solar fotovoltaica, solar térmica, otras renovables y residuos renovables.', 'color': '#92d050', 'type': 'Renovable', 'magnitude': None, 'composite': False, 'last-update': '2019-06-12T15:32:24.000+02:00', 'values': [{'value': 9918268.536, 'percentage': 0.3827907635999176, 'datetime': '2011-01-01T00:00:00.000+01:00'}, {'value': 7991499.8525, 'percentage': 0.34539728666246566, 'datetime': '2011-02-01T00:00:00.000+01:00'}, {'value': 9606067.697, 'percentage': 0.38313491871765465, 'datetime': '2011-03-01T00:00:00.000+01:00'}, {'value': 8123455.767, 'percentage': 0.374645327606978, 'datetime': '2011-04-01T00:00:00.000+02:00'}, {'value': 7251163.8615, 'percentage': 0.3315832492156598, 'datetime': '2011-05-01T00:00:00.000+02:00'}, {'value': 6452804.794, 'percentage': 0.28622384987819477, 'datetime': '2011-06-01T00:00:00.000+02:00'}, {'value': 6498576.444, 'percentage': 0.2712500834748904, 'datetime': '2011-07-01T00:00:00.000+02:00'}, {'value': 5727787.99, 'percentage': 0.24520399433014006, 'datetime': '2011-08-01T00:00:00.000+02:00'}, {'value': 4933369.656, 'percentage': 0.21408577261430467, 'datetime': '2011-09-01T00:00:00.000+02:00'}, {'value': 5622637.3765, 'percentage': 0.25282066301127765, 'datetime': '2011-10-01T00:00:00.000+02:00'}, {'value': 6825133.5855, 'percentage': 0.3015785344449875, 'datetime': '2011-11-01T00:00:00.000+01:00'}, {'value': 7716287.29, 'percentage': 0.32277637531821257, 'datetime': '2011-12-01T00:00:00.000+01:00'}]}}\n",
      "esta es la info de {'type': 'Renovable', 'id': '10299', 'groupId': None, 'attributes': {'title': 'Renovable', 'description': 'Energía renovable: incluye hidráulica, hidroeólica, eólica, solar fotovoltaica, solar térmica, otras renovables y residuos renovables.', 'color': '#92d050', 'type': 'Renovable', 'magnitude': None, 'composite': False, 'last-update': '2019-06-12T15:32:24.000+02:00', 'values': [{'value': 9918268.536, 'percentage': 0.3827907635999176, 'datetime': '2011-01-01T00:00:00.000+01:00'}, {'value': 7991499.8525, 'percentage': 0.34539728666246566, 'datetime': '2011-02-01T00:00:00.000+01:00'}, {'value': 9606067.697, 'percentage': 0.38313491871765465, 'datetime': '2011-03-01T00:00:00.000+01:00'}, {'value': 8123455.767, 'percentage': 0.374645327606978, 'datetime': '2011-04-01T00:00:00.000+02:00'}, {'value': 7251163.8615, 'percentage': 0.3315832492156598, 'datetime': '2011-05-01T00:00:00.000+02:00'}, {'value': 6452804.794, 'percentage': 0.28622384987819477, 'datetime': '2011-06-01T00:00:00.000+02:00'}, {'value': 6498576.444, 'percentage': 0.2712500834748904, 'datetime': '2011-07-01T00:00:00.000+02:00'}, {'value': 5727787.99, 'percentage': 0.24520399433014006, 'datetime': '2011-08-01T00:00:00.000+02:00'}, {'value': 4933369.656, 'percentage': 0.21408577261430467, 'datetime': '2011-09-01T00:00:00.000+02:00'}, {'value': 5622637.3765, 'percentage': 0.25282066301127765, 'datetime': '2011-10-01T00:00:00.000+02:00'}, {'value': 6825133.5855, 'percentage': 0.3015785344449875, 'datetime': '2011-11-01T00:00:00.000+01:00'}, {'value': 7716287.29, 'percentage': 0.32277637531821257, 'datetime': '2011-12-01T00:00:00.000+01:00'}]}}\n",
      "esta es la info de {'type': 'Renovable', 'id': '10299', 'groupId': None, 'attributes': {'title': 'Renovable', 'description': 'Energía renovable: incluye hidráulica, hidroeólica, eólica, solar fotovoltaica, solar térmica, otras renovables y residuos renovables.', 'color': '#92d050', 'type': 'Renovable', 'magnitude': None, 'composite': False, 'last-update': '2019-06-12T15:32:24.000+02:00', 'values': [{'value': 9918268.536, 'percentage': 0.3827907635999176, 'datetime': '2011-01-01T00:00:00.000+01:00'}, {'value': 7991499.8525, 'percentage': 0.34539728666246566, 'datetime': '2011-02-01T00:00:00.000+01:00'}, {'value': 9606067.697, 'percentage': 0.38313491871765465, 'datetime': '2011-03-01T00:00:00.000+01:00'}, {'value': 8123455.767, 'percentage': 0.374645327606978, 'datetime': '2011-04-01T00:00:00.000+02:00'}, {'value': 7251163.8615, 'percentage': 0.3315832492156598, 'datetime': '2011-05-01T00:00:00.000+02:00'}, {'value': 6452804.794, 'percentage': 0.28622384987819477, 'datetime': '2011-06-01T00:00:00.000+02:00'}, {'value': 6498576.444, 'percentage': 0.2712500834748904, 'datetime': '2011-07-01T00:00:00.000+02:00'}, {'value': 5727787.99, 'percentage': 0.24520399433014006, 'datetime': '2011-08-01T00:00:00.000+02:00'}, {'value': 4933369.656, 'percentage': 0.21408577261430467, 'datetime': '2011-09-01T00:00:00.000+02:00'}, {'value': 5622637.3765, 'percentage': 0.25282066301127765, 'datetime': '2011-10-01T00:00:00.000+02:00'}, {'value': 6825133.5855, 'percentage': 0.3015785344449875, 'datetime': '2011-11-01T00:00:00.000+01:00'}, {'value': 7716287.29, 'percentage': 0.32277637531821257, 'datetime': '2011-12-01T00:00:00.000+01:00'}]}}\n",
      "esta es la info de {'type': 'Renovable', 'id': '10299', 'groupId': None, 'attributes': {'title': 'Renovable', 'description': 'Energía renovable: incluye hidráulica, hidroeólica, eólica, solar fotovoltaica, solar térmica, otras renovables y residuos renovables.', 'color': '#92d050', 'type': 'Renovable', 'magnitude': None, 'composite': False, 'last-update': '2019-06-12T15:32:24.000+02:00', 'values': [{'value': 9918268.536, 'percentage': 0.3827907635999176, 'datetime': '2011-01-01T00:00:00.000+01:00'}, {'value': 7991499.8525, 'percentage': 0.34539728666246566, 'datetime': '2011-02-01T00:00:00.000+01:00'}, {'value': 9606067.697, 'percentage': 0.38313491871765465, 'datetime': '2011-03-01T00:00:00.000+01:00'}, {'value': 8123455.767, 'percentage': 0.374645327606978, 'datetime': '2011-04-01T00:00:00.000+02:00'}, {'value': 7251163.8615, 'percentage': 0.3315832492156598, 'datetime': '2011-05-01T00:00:00.000+02:00'}, {'value': 6452804.794, 'percentage': 0.28622384987819477, 'datetime': '2011-06-01T00:00:00.000+02:00'}, {'value': 6498576.444, 'percentage': 0.2712500834748904, 'datetime': '2011-07-01T00:00:00.000+02:00'}, {'value': 5727787.99, 'percentage': 0.24520399433014006, 'datetime': '2011-08-01T00:00:00.000+02:00'}, {'value': 4933369.656, 'percentage': 0.21408577261430467, 'datetime': '2011-09-01T00:00:00.000+02:00'}, {'value': 5622637.3765, 'percentage': 0.25282066301127765, 'datetime': '2011-10-01T00:00:00.000+02:00'}, {'value': 6825133.5855, 'percentage': 0.3015785344449875, 'datetime': '2011-11-01T00:00:00.000+01:00'}, {'value': 7716287.29, 'percentage': 0.32277637531821257, 'datetime': '2011-12-01T00:00:00.000+01:00'}]}}\n",
      "esta es la info de {'type': 'Renovable', 'id': '10299', 'groupId': None, 'attributes': {'title': 'Renovable', 'description': 'Energía renovable: incluye hidráulica, hidroeólica, eólica, solar fotovoltaica, solar térmica, otras renovables y residuos renovables.', 'color': '#92d050', 'type': 'Renovable', 'magnitude': None, 'composite': False, 'last-update': '2019-06-12T15:32:24.000+02:00', 'values': [{'value': 9918268.536, 'percentage': 0.3827907635999176, 'datetime': '2011-01-01T00:00:00.000+01:00'}, {'value': 7991499.8525, 'percentage': 0.34539728666246566, 'datetime': '2011-02-01T00:00:00.000+01:00'}, {'value': 9606067.697, 'percentage': 0.38313491871765465, 'datetime': '2011-03-01T00:00:00.000+01:00'}, {'value': 8123455.767, 'percentage': 0.374645327606978, 'datetime': '2011-04-01T00:00:00.000+02:00'}, {'value': 7251163.8615, 'percentage': 0.3315832492156598, 'datetime': '2011-05-01T00:00:00.000+02:00'}, {'value': 6452804.794, 'percentage': 0.28622384987819477, 'datetime': '2011-06-01T00:00:00.000+02:00'}, {'value': 6498576.444, 'percentage': 0.2712500834748904, 'datetime': '2011-07-01T00:00:00.000+02:00'}, {'value': 5727787.99, 'percentage': 0.24520399433014006, 'datetime': '2011-08-01T00:00:00.000+02:00'}, {'value': 4933369.656, 'percentage': 0.21408577261430467, 'datetime': '2011-09-01T00:00:00.000+02:00'}, {'value': 5622637.3765, 'percentage': 0.25282066301127765, 'datetime': '2011-10-01T00:00:00.000+02:00'}, {'value': 6825133.5855, 'percentage': 0.3015785344449875, 'datetime': '2011-11-01T00:00:00.000+01:00'}, {'value': 7716287.29, 'percentage': 0.32277637531821257, 'datetime': '2011-12-01T00:00:00.000+01:00'}]}}\n",
      "esta es la info de {'type': 'Renovable', 'id': '10299', 'groupId': None, 'attributes': {'title': 'Renovable', 'description': 'Energía renovable: incluye hidráulica, hidroeólica, eólica, solar fotovoltaica, solar térmica, otras renovables y residuos renovables.', 'color': '#92d050', 'type': 'Renovable', 'magnitude': None, 'composite': False, 'last-update': '2019-06-12T15:32:24.000+02:00', 'values': [{'value': 9918268.536, 'percentage': 0.3827907635999176, 'datetime': '2011-01-01T00:00:00.000+01:00'}, {'value': 7991499.8525, 'percentage': 0.34539728666246566, 'datetime': '2011-02-01T00:00:00.000+01:00'}, {'value': 9606067.697, 'percentage': 0.38313491871765465, 'datetime': '2011-03-01T00:00:00.000+01:00'}, {'value': 8123455.767, 'percentage': 0.374645327606978, 'datetime': '2011-04-01T00:00:00.000+02:00'}, {'value': 7251163.8615, 'percentage': 0.3315832492156598, 'datetime': '2011-05-01T00:00:00.000+02:00'}, {'value': 6452804.794, 'percentage': 0.28622384987819477, 'datetime': '2011-06-01T00:00:00.000+02:00'}, {'value': 6498576.444, 'percentage': 0.2712500834748904, 'datetime': '2011-07-01T00:00:00.000+02:00'}, {'value': 5727787.99, 'percentage': 0.24520399433014006, 'datetime': '2011-08-01T00:00:00.000+02:00'}, {'value': 4933369.656, 'percentage': 0.21408577261430467, 'datetime': '2011-09-01T00:00:00.000+02:00'}, {'value': 5622637.3765, 'percentage': 0.25282066301127765, 'datetime': '2011-10-01T00:00:00.000+02:00'}, {'value': 6825133.5855, 'percentage': 0.3015785344449875, 'datetime': '2011-11-01T00:00:00.000+01:00'}, {'value': 7716287.29, 'percentage': 0.32277637531821257, 'datetime': '2011-12-01T00:00:00.000+01:00'}]}}\n"
     ]
    }
   ],
   "source": [
    "for month in range (13):\n",
    "    url_electrica = f\"https://apidatos.ree.es/es/datos/generacion/evolucion-renovable-no-renovable?start_date=2011-01-01T00:00&end_date=2011-12-31T23:59&time_trunc=month\"\n",
    "    resp_energia = requests.get(url_electrica)\n",
    "    json_electrica = resp_energia.json()\n",
    "    for i in json_electrica[\"included\"]:\n",
    "        print(f\"esta es la info de {i}\")\n",
    "            \n",
    "        break"
   ]
  }
 ],
 "metadata": {
  "kernelspec": {
   "display_name": "base",
   "language": "python",
   "name": "python3"
  },
  "language_info": {
   "codemirror_mode": {
    "name": "ipython",
    "version": 3
   },
   "file_extension": ".py",
   "mimetype": "text/x-python",
   "name": "python",
   "nbconvert_exporter": "python",
   "pygments_lexer": "ipython3",
   "version": "3.9.7"
  }
 },
 "nbformat": 4,
 "nbformat_minor": 2
}
