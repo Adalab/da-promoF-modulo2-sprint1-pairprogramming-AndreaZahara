{
 "cells": [
  {
   "cell_type": "code",
   "execution_count": 1,
   "metadata": {},
   "outputs": [],
   "source": [
    "import pandas as pd\n",
    "import requests"
   ]
  },
  {
   "cell_type": "code",
   "execution_count": 2,
   "metadata": {},
   "outputs": [],
   "source": [
    "def llamar_api(url_electrica):\n",
    "    llamada = requests.get(url_electrica)  # Realiza una solicitud GET a la URL proporcionada y almacena la respuesta en 'llamada'.\n",
    "\n",
    "    print(f\"La llamada a la API nos ha dado una respuesta de tipo: {llamada.status_code}\")  # Imprime el código de estado de la respuesta.\n",
    "\n",
    "    if llamada.status_code != 200:  # Comprueba si la respuesta no fue exitosa (código de estado distinto de 200).\n",
    "        print(f\"El motivo por el que la llamada falló es {llamada.reason}\")  # Imprime la razón de la falla.\n",
    "        print(llamada.json())\n",
    "    else:\n",
    "        return llamada.json()  # Si la llamada fue exitosa, devuelve los datos de respuesta en formato JSON.\n"
   ]
  },
  {
   "cell_type": "code",
   "execution_count": 3,
   "metadata": {},
   "outputs": [
    {
     "name": "stdout",
     "output_type": "stream",
     "text": [
      "La llamada a la API nos ha dado una respuesta de tipo: 200\n"
     ]
    }
   ],
   "source": [
    "url_electrica = f\"https://apidatos.ree.es/es/datos/generacion/evolucion-renovable-no-renovable?start_date=2011-01-01T00:00&end_date=2011-12-31T23:59&time_trunc=month\"\n",
    "resultados_energia = llamar_api(url_electrica)"
   ]
  },
  {
   "cell_type": "code",
   "execution_count": 4,
   "metadata": {},
   "outputs": [
    {
     "data": {
      "text/plain": [
       "dict_keys(['data', 'included'])"
      ]
     },
     "execution_count": 4,
     "metadata": {},
     "output_type": "execute_result"
    }
   ],
   "source": [
    "resultados_energia.keys()"
   ]
  },
  {
   "cell_type": "code",
   "execution_count": 5,
   "metadata": {},
   "outputs": [
    {
     "data": {
      "text/plain": [
       "{'type': 'Evolución de la generación renovable/no renovable',\n",
       " 'id': 'gen2',\n",
       " 'attributes': {'title': 'Evolución de la generación renovable/no renovable',\n",
       "  'last-update': '2019-06-12T15:32:24.000+02:00',\n",
       "  'description': None},\n",
       " 'meta': {'cache-control': {'cache': 'HIT',\n",
       "   'expireAt': '2023-11-24T08:41:25'}}}"
      ]
     },
     "execution_count": 5,
     "metadata": {},
     "output_type": "execute_result"
    }
   ],
   "source": [
    "resultados_energia [\"data\"]"
   ]
  },
  {
   "cell_type": "code",
   "execution_count": 6,
   "metadata": {},
   "outputs": [
    {
     "data": {
      "text/plain": [
       "[{'type': 'Renovable',\n",
       "  'id': '10299',\n",
       "  'groupId': None,\n",
       "  'attributes': {'title': 'Renovable',\n",
       "   'description': 'Energía renovable: incluye hidráulica, hidroeólica, eólica, solar fotovoltaica, solar térmica, otras renovables y residuos renovables.',\n",
       "   'color': '#92d050',\n",
       "   'type': 'Renovable',\n",
       "   'magnitude': None,\n",
       "   'composite': False,\n",
       "   'last-update': '2019-06-12T15:32:24.000+02:00',\n",
       "   'values': [{'value': 9918268.536,\n",
       "     'percentage': 0.3827907635999176,\n",
       "     'datetime': '2011-01-01T00:00:00.000+01:00'},\n",
       "    {'value': 7991499.8525,\n",
       "     'percentage': 0.34539728666246566,\n",
       "     'datetime': '2011-02-01T00:00:00.000+01:00'},\n",
       "    {'value': 9606067.697,\n",
       "     'percentage': 0.38313491871765465,\n",
       "     'datetime': '2011-03-01T00:00:00.000+01:00'},\n",
       "    {'value': 8123455.767,\n",
       "     'percentage': 0.374645327606978,\n",
       "     'datetime': '2011-04-01T00:00:00.000+02:00'},\n",
       "    {'value': 7251163.8615,\n",
       "     'percentage': 0.3315832492156598,\n",
       "     'datetime': '2011-05-01T00:00:00.000+02:00'},\n",
       "    {'value': 6452804.794,\n",
       "     'percentage': 0.28622384987819477,\n",
       "     'datetime': '2011-06-01T00:00:00.000+02:00'},\n",
       "    {'value': 6498576.444,\n",
       "     'percentage': 0.2712500834748904,\n",
       "     'datetime': '2011-07-01T00:00:00.000+02:00'},\n",
       "    {'value': 5727787.99,\n",
       "     'percentage': 0.24520399433014006,\n",
       "     'datetime': '2011-08-01T00:00:00.000+02:00'},\n",
       "    {'value': 4933369.656,\n",
       "     'percentage': 0.21408577261430467,\n",
       "     'datetime': '2011-09-01T00:00:00.000+02:00'},\n",
       "    {'value': 5622637.3765,\n",
       "     'percentage': 0.25282066301127765,\n",
       "     'datetime': '2011-10-01T00:00:00.000+02:00'},\n",
       "    {'value': 6825133.5855,\n",
       "     'percentage': 0.3015785344449875,\n",
       "     'datetime': '2011-11-01T00:00:00.000+01:00'},\n",
       "    {'value': 7716287.29,\n",
       "     'percentage': 0.32277637531821257,\n",
       "     'datetime': '2011-12-01T00:00:00.000+01:00'}]}},\n",
       " {'type': 'No renovable',\n",
       "  'id': '10298',\n",
       "  'groupId': None,\n",
       "  'attributes': {'title': 'No renovable',\n",
       "   'description': None,\n",
       "   'color': '#666666',\n",
       "   'type': 'No renovable',\n",
       "   'magnitude': None,\n",
       "   'composite': False,\n",
       "   'last-update': '2019-06-12T15:32:24.000+02:00',\n",
       "   'values': [{'value': 15992149.058,\n",
       "     'percentage': 0.6172092364000824,\n",
       "     'datetime': '2011-01-01T00:00:00.000+01:00'},\n",
       "    {'value': 15145624.1525,\n",
       "     'percentage': 0.6546027133375344,\n",
       "     'datetime': '2011-02-01T00:00:00.000+01:00'},\n",
       "    {'value': 15466216.837,\n",
       "     'percentage': 0.6168650812823453,\n",
       "     'datetime': '2011-03-01T00:00:00.000+01:00'},\n",
       "    {'value': 13559600.629,\n",
       "     'percentage': 0.625354672393022,\n",
       "     'datetime': '2011-04-01T00:00:00.000+02:00'},\n",
       "    {'value': 14617141.8465,\n",
       "     'percentage': 0.6684167507843402,\n",
       "     'datetime': '2011-05-01T00:00:00.000+02:00'},\n",
       "    {'value': 16091804.248,\n",
       "     'percentage': 0.7137761501218053,\n",
       "     'datetime': '2011-06-01T00:00:00.000+02:00'},\n",
       "    {'value': 17459301.691,\n",
       "     'percentage': 0.7287499165251097,\n",
       "     'datetime': '2011-07-01T00:00:00.000+02:00'},\n",
       "    {'value': 17631488.867,\n",
       "     'percentage': 0.7547960056698598,\n",
       "     'datetime': '2011-08-01T00:00:00.000+02:00'},\n",
       "    {'value': 18110523.433,\n",
       "     'percentage': 0.7859142273856954,\n",
       "     'datetime': '2011-09-01T00:00:00.000+02:00'},\n",
       "    {'value': 16616990.1505,\n",
       "     'percentage': 0.7471793369887224,\n",
       "     'datetime': '2011-10-01T00:00:00.000+02:00'},\n",
       "    {'value': 15806230.4075,\n",
       "     'percentage': 0.6984214655550125,\n",
       "     'datetime': '2011-11-01T00:00:00.000+01:00'},\n",
       "    {'value': 16189698.03,\n",
       "     'percentage': 0.6772236246817874,\n",
       "     'datetime': '2011-12-01T00:00:00.000+01:00'}]}}]"
      ]
     },
     "execution_count": 6,
     "metadata": {},
     "output_type": "execute_result"
    }
   ],
   "source": [
    "resultados_energia [\"included\"]"
   ]
  },
  {
   "cell_type": "code",
   "execution_count": 7,
   "metadata": {},
   "outputs": [
    {
     "data": {
      "text/plain": [
       "{'type': 'Renovable',\n",
       " 'id': '10299',\n",
       " 'groupId': None,\n",
       " 'attributes': {'title': 'Renovable',\n",
       "  'description': 'Energía renovable: incluye hidráulica, hidroeólica, eólica, solar fotovoltaica, solar térmica, otras renovables y residuos renovables.',\n",
       "  'color': '#92d050',\n",
       "  'type': 'Renovable',\n",
       "  'magnitude': None,\n",
       "  'composite': False,\n",
       "  'last-update': '2019-06-12T15:32:24.000+02:00',\n",
       "  'values': [{'value': 9918268.536,\n",
       "    'percentage': 0.3827907635999176,\n",
       "    'datetime': '2011-01-01T00:00:00.000+01:00'},\n",
       "   {'value': 7991499.8525,\n",
       "    'percentage': 0.34539728666246566,\n",
       "    'datetime': '2011-02-01T00:00:00.000+01:00'},\n",
       "   {'value': 9606067.697,\n",
       "    'percentage': 0.38313491871765465,\n",
       "    'datetime': '2011-03-01T00:00:00.000+01:00'},\n",
       "   {'value': 8123455.767,\n",
       "    'percentage': 0.374645327606978,\n",
       "    'datetime': '2011-04-01T00:00:00.000+02:00'},\n",
       "   {'value': 7251163.8615,\n",
       "    'percentage': 0.3315832492156598,\n",
       "    'datetime': '2011-05-01T00:00:00.000+02:00'},\n",
       "   {'value': 6452804.794,\n",
       "    'percentage': 0.28622384987819477,\n",
       "    'datetime': '2011-06-01T00:00:00.000+02:00'},\n",
       "   {'value': 6498576.444,\n",
       "    'percentage': 0.2712500834748904,\n",
       "    'datetime': '2011-07-01T00:00:00.000+02:00'},\n",
       "   {'value': 5727787.99,\n",
       "    'percentage': 0.24520399433014006,\n",
       "    'datetime': '2011-08-01T00:00:00.000+02:00'},\n",
       "   {'value': 4933369.656,\n",
       "    'percentage': 0.21408577261430467,\n",
       "    'datetime': '2011-09-01T00:00:00.000+02:00'},\n",
       "   {'value': 5622637.3765,\n",
       "    'percentage': 0.25282066301127765,\n",
       "    'datetime': '2011-10-01T00:00:00.000+02:00'},\n",
       "   {'value': 6825133.5855,\n",
       "    'percentage': 0.3015785344449875,\n",
       "    'datetime': '2011-11-01T00:00:00.000+01:00'},\n",
       "   {'value': 7716287.29,\n",
       "    'percentage': 0.32277637531821257,\n",
       "    'datetime': '2011-12-01T00:00:00.000+01:00'}]}}"
      ]
     },
     "execution_count": 7,
     "metadata": {},
     "output_type": "execute_result"
    }
   ],
   "source": [
    "resultados_energia[\"included\"][0]"
   ]
  },
  {
   "cell_type": "code",
   "execution_count": 8,
   "metadata": {},
   "outputs": [
    {
     "data": {
      "text/plain": [
       "dict_keys(['type', 'id', 'groupId', 'attributes'])"
      ]
     },
     "execution_count": 8,
     "metadata": {},
     "output_type": "execute_result"
    }
   ],
   "source": [
    "resultados_energia[\"included\"][0].keys()"
   ]
  },
  {
   "cell_type": "code",
   "execution_count": 9,
   "metadata": {},
   "outputs": [
    {
     "data": {
      "text/plain": [
       "{'title': 'Renovable',\n",
       " 'description': 'Energía renovable: incluye hidráulica, hidroeólica, eólica, solar fotovoltaica, solar térmica, otras renovables y residuos renovables.',\n",
       " 'color': '#92d050',\n",
       " 'type': 'Renovable',\n",
       " 'magnitude': None,\n",
       " 'composite': False,\n",
       " 'last-update': '2019-06-12T15:32:24.000+02:00',\n",
       " 'values': [{'value': 9918268.536,\n",
       "   'percentage': 0.3827907635999176,\n",
       "   'datetime': '2011-01-01T00:00:00.000+01:00'},\n",
       "  {'value': 7991499.8525,\n",
       "   'percentage': 0.34539728666246566,\n",
       "   'datetime': '2011-02-01T00:00:00.000+01:00'},\n",
       "  {'value': 9606067.697,\n",
       "   'percentage': 0.38313491871765465,\n",
       "   'datetime': '2011-03-01T00:00:00.000+01:00'},\n",
       "  {'value': 8123455.767,\n",
       "   'percentage': 0.374645327606978,\n",
       "   'datetime': '2011-04-01T00:00:00.000+02:00'},\n",
       "  {'value': 7251163.8615,\n",
       "   'percentage': 0.3315832492156598,\n",
       "   'datetime': '2011-05-01T00:00:00.000+02:00'},\n",
       "  {'value': 6452804.794,\n",
       "   'percentage': 0.28622384987819477,\n",
       "   'datetime': '2011-06-01T00:00:00.000+02:00'},\n",
       "  {'value': 6498576.444,\n",
       "   'percentage': 0.2712500834748904,\n",
       "   'datetime': '2011-07-01T00:00:00.000+02:00'},\n",
       "  {'value': 5727787.99,\n",
       "   'percentage': 0.24520399433014006,\n",
       "   'datetime': '2011-08-01T00:00:00.000+02:00'},\n",
       "  {'value': 4933369.656,\n",
       "   'percentage': 0.21408577261430467,\n",
       "   'datetime': '2011-09-01T00:00:00.000+02:00'},\n",
       "  {'value': 5622637.3765,\n",
       "   'percentage': 0.25282066301127765,\n",
       "   'datetime': '2011-10-01T00:00:00.000+02:00'},\n",
       "  {'value': 6825133.5855,\n",
       "   'percentage': 0.3015785344449875,\n",
       "   'datetime': '2011-11-01T00:00:00.000+01:00'},\n",
       "  {'value': 7716287.29,\n",
       "   'percentage': 0.32277637531821257,\n",
       "   'datetime': '2011-12-01T00:00:00.000+01:00'}]}"
      ]
     },
     "execution_count": 9,
     "metadata": {},
     "output_type": "execute_result"
    }
   ],
   "source": [
    "resultados_energia[\"included\"][0][\"attributes\"]"
   ]
  },
  {
   "cell_type": "code",
   "execution_count": 10,
   "metadata": {},
   "outputs": [
    {
     "data": {
      "text/plain": [
       "[{'value': 9918268.536,\n",
       "  'percentage': 0.3827907635999176,\n",
       "  'datetime': '2011-01-01T00:00:00.000+01:00'},\n",
       " {'value': 7991499.8525,\n",
       "  'percentage': 0.34539728666246566,\n",
       "  'datetime': '2011-02-01T00:00:00.000+01:00'},\n",
       " {'value': 9606067.697,\n",
       "  'percentage': 0.38313491871765465,\n",
       "  'datetime': '2011-03-01T00:00:00.000+01:00'},\n",
       " {'value': 8123455.767,\n",
       "  'percentage': 0.374645327606978,\n",
       "  'datetime': '2011-04-01T00:00:00.000+02:00'},\n",
       " {'value': 7251163.8615,\n",
       "  'percentage': 0.3315832492156598,\n",
       "  'datetime': '2011-05-01T00:00:00.000+02:00'},\n",
       " {'value': 6452804.794,\n",
       "  'percentage': 0.28622384987819477,\n",
       "  'datetime': '2011-06-01T00:00:00.000+02:00'},\n",
       " {'value': 6498576.444,\n",
       "  'percentage': 0.2712500834748904,\n",
       "  'datetime': '2011-07-01T00:00:00.000+02:00'},\n",
       " {'value': 5727787.99,\n",
       "  'percentage': 0.24520399433014006,\n",
       "  'datetime': '2011-08-01T00:00:00.000+02:00'},\n",
       " {'value': 4933369.656,\n",
       "  'percentage': 0.21408577261430467,\n",
       "  'datetime': '2011-09-01T00:00:00.000+02:00'},\n",
       " {'value': 5622637.3765,\n",
       "  'percentage': 0.25282066301127765,\n",
       "  'datetime': '2011-10-01T00:00:00.000+02:00'},\n",
       " {'value': 6825133.5855,\n",
       "  'percentage': 0.3015785344449875,\n",
       "  'datetime': '2011-11-01T00:00:00.000+01:00'},\n",
       " {'value': 7716287.29,\n",
       "  'percentage': 0.32277637531821257,\n",
       "  'datetime': '2011-12-01T00:00:00.000+01:00'}]"
      ]
     },
     "execution_count": 10,
     "metadata": {},
     "output_type": "execute_result"
    }
   ],
   "source": [
    "resultados_energia[\"included\"][0][\"attributes\"][\"values\"]"
   ]
  },
  {
   "cell_type": "code",
   "execution_count": 11,
   "metadata": {},
   "outputs": [],
   "source": [
    "diccionario_energia = {\"tipo de energia\": [], \"tipo generacion\":[], \"fecha\": [], \"valor\" :[]}"
   ]
  },
  {
   "cell_type": "code",
   "execution_count": 12,
   "metadata": {},
   "outputs": [
    {
     "name": "stdout",
     "output_type": "stream",
     "text": [
      "esta es la info de {'type': 'Renovable', 'id': '10299', 'groupId': None, 'attributes': {'title': 'Renovable', 'description': 'Energía renovable: incluye hidráulica, hidroeólica, eólica, solar fotovoltaica, solar térmica, otras renovables y residuos renovables.', 'color': '#92d050', 'type': 'Renovable', 'magnitude': None, 'composite': False, 'last-update': '2019-06-12T15:32:24.000+02:00', 'values': [{'value': 9918268.536, 'percentage': 0.3827907635999176, 'datetime': '2011-01-01T00:00:00.000+01:00'}, {'value': 7991499.8525, 'percentage': 0.34539728666246566, 'datetime': '2011-02-01T00:00:00.000+01:00'}, {'value': 9606067.697, 'percentage': 0.38313491871765465, 'datetime': '2011-03-01T00:00:00.000+01:00'}, {'value': 8123455.767, 'percentage': 0.374645327606978, 'datetime': '2011-04-01T00:00:00.000+02:00'}, {'value': 7251163.8615, 'percentage': 0.3315832492156598, 'datetime': '2011-05-01T00:00:00.000+02:00'}, {'value': 6452804.794, 'percentage': 0.28622384987819477, 'datetime': '2011-06-01T00:00:00.000+02:00'}, {'value': 6498576.444, 'percentage': 0.2712500834748904, 'datetime': '2011-07-01T00:00:00.000+02:00'}, {'value': 5727787.99, 'percentage': 0.24520399433014006, 'datetime': '2011-08-01T00:00:00.000+02:00'}, {'value': 4933369.656, 'percentage': 0.21408577261430467, 'datetime': '2011-09-01T00:00:00.000+02:00'}, {'value': 5622637.3765, 'percentage': 0.25282066301127765, 'datetime': '2011-10-01T00:00:00.000+02:00'}, {'value': 6825133.5855, 'percentage': 0.3015785344449875, 'datetime': '2011-11-01T00:00:00.000+01:00'}, {'value': 7716287.29, 'percentage': 0.32277637531821257, 'datetime': '2011-12-01T00:00:00.000+01:00'}]}}\n",
      "esta es la info de {'type': 'Renovable', 'id': '10299', 'groupId': None, 'attributes': {'title': 'Renovable', 'description': 'Energía renovable: incluye hidráulica, hidroeólica, eólica, solar fotovoltaica, solar térmica, otras renovables y residuos renovables.', 'color': '#92d050', 'type': 'Renovable', 'magnitude': None, 'composite': False, 'last-update': '2019-06-12T15:32:24.000+02:00', 'values': [{'value': 9918268.536, 'percentage': 0.3827907635999176, 'datetime': '2011-01-01T00:00:00.000+01:00'}, {'value': 7991499.8525, 'percentage': 0.34539728666246566, 'datetime': '2011-02-01T00:00:00.000+01:00'}, {'value': 9606067.697, 'percentage': 0.38313491871765465, 'datetime': '2011-03-01T00:00:00.000+01:00'}, {'value': 8123455.767, 'percentage': 0.374645327606978, 'datetime': '2011-04-01T00:00:00.000+02:00'}, {'value': 7251163.8615, 'percentage': 0.3315832492156598, 'datetime': '2011-05-01T00:00:00.000+02:00'}, {'value': 6452804.794, 'percentage': 0.28622384987819477, 'datetime': '2011-06-01T00:00:00.000+02:00'}, {'value': 6498576.444, 'percentage': 0.2712500834748904, 'datetime': '2011-07-01T00:00:00.000+02:00'}, {'value': 5727787.99, 'percentage': 0.24520399433014006, 'datetime': '2011-08-01T00:00:00.000+02:00'}, {'value': 4933369.656, 'percentage': 0.21408577261430467, 'datetime': '2011-09-01T00:00:00.000+02:00'}, {'value': 5622637.3765, 'percentage': 0.25282066301127765, 'datetime': '2011-10-01T00:00:00.000+02:00'}, {'value': 6825133.5855, 'percentage': 0.3015785344449875, 'datetime': '2011-11-01T00:00:00.000+01:00'}, {'value': 7716287.29, 'percentage': 0.32277637531821257, 'datetime': '2011-12-01T00:00:00.000+01:00'}]}}\n",
      "esta es la info de {'type': 'Renovable', 'id': '10299', 'groupId': None, 'attributes': {'title': 'Renovable', 'description': 'Energía renovable: incluye hidráulica, hidroeólica, eólica, solar fotovoltaica, solar térmica, otras renovables y residuos renovables.', 'color': '#92d050', 'type': 'Renovable', 'magnitude': None, 'composite': False, 'last-update': '2019-06-12T15:32:24.000+02:00', 'values': [{'value': 9918268.536, 'percentage': 0.3827907635999176, 'datetime': '2011-01-01T00:00:00.000+01:00'}, {'value': 7991499.8525, 'percentage': 0.34539728666246566, 'datetime': '2011-02-01T00:00:00.000+01:00'}, {'value': 9606067.697, 'percentage': 0.38313491871765465, 'datetime': '2011-03-01T00:00:00.000+01:00'}, {'value': 8123455.767, 'percentage': 0.374645327606978, 'datetime': '2011-04-01T00:00:00.000+02:00'}, {'value': 7251163.8615, 'percentage': 0.3315832492156598, 'datetime': '2011-05-01T00:00:00.000+02:00'}, {'value': 6452804.794, 'percentage': 0.28622384987819477, 'datetime': '2011-06-01T00:00:00.000+02:00'}, {'value': 6498576.444, 'percentage': 0.2712500834748904, 'datetime': '2011-07-01T00:00:00.000+02:00'}, {'value': 5727787.99, 'percentage': 0.24520399433014006, 'datetime': '2011-08-01T00:00:00.000+02:00'}, {'value': 4933369.656, 'percentage': 0.21408577261430467, 'datetime': '2011-09-01T00:00:00.000+02:00'}, {'value': 5622637.3765, 'percentage': 0.25282066301127765, 'datetime': '2011-10-01T00:00:00.000+02:00'}, {'value': 6825133.5855, 'percentage': 0.3015785344449875, 'datetime': '2011-11-01T00:00:00.000+01:00'}, {'value': 7716287.29, 'percentage': 0.32277637531821257, 'datetime': '2011-12-01T00:00:00.000+01:00'}]}}\n",
      "esta es la info de {'type': 'Renovable', 'id': '10299', 'groupId': None, 'attributes': {'title': 'Renovable', 'description': 'Energía renovable: incluye hidráulica, hidroeólica, eólica, solar fotovoltaica, solar térmica, otras renovables y residuos renovables.', 'color': '#92d050', 'type': 'Renovable', 'magnitude': None, 'composite': False, 'last-update': '2019-06-12T15:32:24.000+02:00', 'values': [{'value': 9918268.536, 'percentage': 0.3827907635999176, 'datetime': '2011-01-01T00:00:00.000+01:00'}, {'value': 7991499.8525, 'percentage': 0.34539728666246566, 'datetime': '2011-02-01T00:00:00.000+01:00'}, {'value': 9606067.697, 'percentage': 0.38313491871765465, 'datetime': '2011-03-01T00:00:00.000+01:00'}, {'value': 8123455.767, 'percentage': 0.374645327606978, 'datetime': '2011-04-01T00:00:00.000+02:00'}, {'value': 7251163.8615, 'percentage': 0.3315832492156598, 'datetime': '2011-05-01T00:00:00.000+02:00'}, {'value': 6452804.794, 'percentage': 0.28622384987819477, 'datetime': '2011-06-01T00:00:00.000+02:00'}, {'value': 6498576.444, 'percentage': 0.2712500834748904, 'datetime': '2011-07-01T00:00:00.000+02:00'}, {'value': 5727787.99, 'percentage': 0.24520399433014006, 'datetime': '2011-08-01T00:00:00.000+02:00'}, {'value': 4933369.656, 'percentage': 0.21408577261430467, 'datetime': '2011-09-01T00:00:00.000+02:00'}, {'value': 5622637.3765, 'percentage': 0.25282066301127765, 'datetime': '2011-10-01T00:00:00.000+02:00'}, {'value': 6825133.5855, 'percentage': 0.3015785344449875, 'datetime': '2011-11-01T00:00:00.000+01:00'}, {'value': 7716287.29, 'percentage': 0.32277637531821257, 'datetime': '2011-12-01T00:00:00.000+01:00'}]}}\n",
      "esta es la info de {'type': 'Renovable', 'id': '10299', 'groupId': None, 'attributes': {'title': 'Renovable', 'description': 'Energía renovable: incluye hidráulica, hidroeólica, eólica, solar fotovoltaica, solar térmica, otras renovables y residuos renovables.', 'color': '#92d050', 'type': 'Renovable', 'magnitude': None, 'composite': False, 'last-update': '2019-06-12T15:32:24.000+02:00', 'values': [{'value': 9918268.536, 'percentage': 0.3827907635999176, 'datetime': '2011-01-01T00:00:00.000+01:00'}, {'value': 7991499.8525, 'percentage': 0.34539728666246566, 'datetime': '2011-02-01T00:00:00.000+01:00'}, {'value': 9606067.697, 'percentage': 0.38313491871765465, 'datetime': '2011-03-01T00:00:00.000+01:00'}, {'value': 8123455.767, 'percentage': 0.374645327606978, 'datetime': '2011-04-01T00:00:00.000+02:00'}, {'value': 7251163.8615, 'percentage': 0.3315832492156598, 'datetime': '2011-05-01T00:00:00.000+02:00'}, {'value': 6452804.794, 'percentage': 0.28622384987819477, 'datetime': '2011-06-01T00:00:00.000+02:00'}, {'value': 6498576.444, 'percentage': 0.2712500834748904, 'datetime': '2011-07-01T00:00:00.000+02:00'}, {'value': 5727787.99, 'percentage': 0.24520399433014006, 'datetime': '2011-08-01T00:00:00.000+02:00'}, {'value': 4933369.656, 'percentage': 0.21408577261430467, 'datetime': '2011-09-01T00:00:00.000+02:00'}, {'value': 5622637.3765, 'percentage': 0.25282066301127765, 'datetime': '2011-10-01T00:00:00.000+02:00'}, {'value': 6825133.5855, 'percentage': 0.3015785344449875, 'datetime': '2011-11-01T00:00:00.000+01:00'}, {'value': 7716287.29, 'percentage': 0.32277637531821257, 'datetime': '2011-12-01T00:00:00.000+01:00'}]}}\n",
      "esta es la info de {'type': 'Renovable', 'id': '10299', 'groupId': None, 'attributes': {'title': 'Renovable', 'description': 'Energía renovable: incluye hidráulica, hidroeólica, eólica, solar fotovoltaica, solar térmica, otras renovables y residuos renovables.', 'color': '#92d050', 'type': 'Renovable', 'magnitude': None, 'composite': False, 'last-update': '2019-06-12T15:32:24.000+02:00', 'values': [{'value': 9918268.536, 'percentage': 0.3827907635999176, 'datetime': '2011-01-01T00:00:00.000+01:00'}, {'value': 7991499.8525, 'percentage': 0.34539728666246566, 'datetime': '2011-02-01T00:00:00.000+01:00'}, {'value': 9606067.697, 'percentage': 0.38313491871765465, 'datetime': '2011-03-01T00:00:00.000+01:00'}, {'value': 8123455.767, 'percentage': 0.374645327606978, 'datetime': '2011-04-01T00:00:00.000+02:00'}, {'value': 7251163.8615, 'percentage': 0.3315832492156598, 'datetime': '2011-05-01T00:00:00.000+02:00'}, {'value': 6452804.794, 'percentage': 0.28622384987819477, 'datetime': '2011-06-01T00:00:00.000+02:00'}, {'value': 6498576.444, 'percentage': 0.2712500834748904, 'datetime': '2011-07-01T00:00:00.000+02:00'}, {'value': 5727787.99, 'percentage': 0.24520399433014006, 'datetime': '2011-08-01T00:00:00.000+02:00'}, {'value': 4933369.656, 'percentage': 0.21408577261430467, 'datetime': '2011-09-01T00:00:00.000+02:00'}, {'value': 5622637.3765, 'percentage': 0.25282066301127765, 'datetime': '2011-10-01T00:00:00.000+02:00'}, {'value': 6825133.5855, 'percentage': 0.3015785344449875, 'datetime': '2011-11-01T00:00:00.000+01:00'}, {'value': 7716287.29, 'percentage': 0.32277637531821257, 'datetime': '2011-12-01T00:00:00.000+01:00'}]}}\n",
      "esta es la info de {'type': 'Renovable', 'id': '10299', 'groupId': None, 'attributes': {'title': 'Renovable', 'description': 'Energía renovable: incluye hidráulica, hidroeólica, eólica, solar fotovoltaica, solar térmica, otras renovables y residuos renovables.', 'color': '#92d050', 'type': 'Renovable', 'magnitude': None, 'composite': False, 'last-update': '2019-06-12T15:32:24.000+02:00', 'values': [{'value': 9918268.536, 'percentage': 0.3827907635999176, 'datetime': '2011-01-01T00:00:00.000+01:00'}, {'value': 7991499.8525, 'percentage': 0.34539728666246566, 'datetime': '2011-02-01T00:00:00.000+01:00'}, {'value': 9606067.697, 'percentage': 0.38313491871765465, 'datetime': '2011-03-01T00:00:00.000+01:00'}, {'value': 8123455.767, 'percentage': 0.374645327606978, 'datetime': '2011-04-01T00:00:00.000+02:00'}, {'value': 7251163.8615, 'percentage': 0.3315832492156598, 'datetime': '2011-05-01T00:00:00.000+02:00'}, {'value': 6452804.794, 'percentage': 0.28622384987819477, 'datetime': '2011-06-01T00:00:00.000+02:00'}, {'value': 6498576.444, 'percentage': 0.2712500834748904, 'datetime': '2011-07-01T00:00:00.000+02:00'}, {'value': 5727787.99, 'percentage': 0.24520399433014006, 'datetime': '2011-08-01T00:00:00.000+02:00'}, {'value': 4933369.656, 'percentage': 0.21408577261430467, 'datetime': '2011-09-01T00:00:00.000+02:00'}, {'value': 5622637.3765, 'percentage': 0.25282066301127765, 'datetime': '2011-10-01T00:00:00.000+02:00'}, {'value': 6825133.5855, 'percentage': 0.3015785344449875, 'datetime': '2011-11-01T00:00:00.000+01:00'}, {'value': 7716287.29, 'percentage': 0.32277637531821257, 'datetime': '2011-12-01T00:00:00.000+01:00'}]}}\n",
      "esta es la info de {'type': 'Renovable', 'id': '10299', 'groupId': None, 'attributes': {'title': 'Renovable', 'description': 'Energía renovable: incluye hidráulica, hidroeólica, eólica, solar fotovoltaica, solar térmica, otras renovables y residuos renovables.', 'color': '#92d050', 'type': 'Renovable', 'magnitude': None, 'composite': False, 'last-update': '2019-06-12T15:32:24.000+02:00', 'values': [{'value': 9918268.536, 'percentage': 0.3827907635999176, 'datetime': '2011-01-01T00:00:00.000+01:00'}, {'value': 7991499.8525, 'percentage': 0.34539728666246566, 'datetime': '2011-02-01T00:00:00.000+01:00'}, {'value': 9606067.697, 'percentage': 0.38313491871765465, 'datetime': '2011-03-01T00:00:00.000+01:00'}, {'value': 8123455.767, 'percentage': 0.374645327606978, 'datetime': '2011-04-01T00:00:00.000+02:00'}, {'value': 7251163.8615, 'percentage': 0.3315832492156598, 'datetime': '2011-05-01T00:00:00.000+02:00'}, {'value': 6452804.794, 'percentage': 0.28622384987819477, 'datetime': '2011-06-01T00:00:00.000+02:00'}, {'value': 6498576.444, 'percentage': 0.2712500834748904, 'datetime': '2011-07-01T00:00:00.000+02:00'}, {'value': 5727787.99, 'percentage': 0.24520399433014006, 'datetime': '2011-08-01T00:00:00.000+02:00'}, {'value': 4933369.656, 'percentage': 0.21408577261430467, 'datetime': '2011-09-01T00:00:00.000+02:00'}, {'value': 5622637.3765, 'percentage': 0.25282066301127765, 'datetime': '2011-10-01T00:00:00.000+02:00'}, {'value': 6825133.5855, 'percentage': 0.3015785344449875, 'datetime': '2011-11-01T00:00:00.000+01:00'}, {'value': 7716287.29, 'percentage': 0.32277637531821257, 'datetime': '2011-12-01T00:00:00.000+01:00'}]}}\n",
      "esta es la info de {'type': 'Renovable', 'id': '10299', 'groupId': None, 'attributes': {'title': 'Renovable', 'description': 'Energía renovable: incluye hidráulica, hidroeólica, eólica, solar fotovoltaica, solar térmica, otras renovables y residuos renovables.', 'color': '#92d050', 'type': 'Renovable', 'magnitude': None, 'composite': False, 'last-update': '2019-06-12T15:32:24.000+02:00', 'values': [{'value': 9918268.536, 'percentage': 0.3827907635999176, 'datetime': '2011-01-01T00:00:00.000+01:00'}, {'value': 7991499.8525, 'percentage': 0.34539728666246566, 'datetime': '2011-02-01T00:00:00.000+01:00'}, {'value': 9606067.697, 'percentage': 0.38313491871765465, 'datetime': '2011-03-01T00:00:00.000+01:00'}, {'value': 8123455.767, 'percentage': 0.374645327606978, 'datetime': '2011-04-01T00:00:00.000+02:00'}, {'value': 7251163.8615, 'percentage': 0.3315832492156598, 'datetime': '2011-05-01T00:00:00.000+02:00'}, {'value': 6452804.794, 'percentage': 0.28622384987819477, 'datetime': '2011-06-01T00:00:00.000+02:00'}, {'value': 6498576.444, 'percentage': 0.2712500834748904, 'datetime': '2011-07-01T00:00:00.000+02:00'}, {'value': 5727787.99, 'percentage': 0.24520399433014006, 'datetime': '2011-08-01T00:00:00.000+02:00'}, {'value': 4933369.656, 'percentage': 0.21408577261430467, 'datetime': '2011-09-01T00:00:00.000+02:00'}, {'value': 5622637.3765, 'percentage': 0.25282066301127765, 'datetime': '2011-10-01T00:00:00.000+02:00'}, {'value': 6825133.5855, 'percentage': 0.3015785344449875, 'datetime': '2011-11-01T00:00:00.000+01:00'}, {'value': 7716287.29, 'percentage': 0.32277637531821257, 'datetime': '2011-12-01T00:00:00.000+01:00'}]}}\n",
      "esta es la info de {'type': 'Renovable', 'id': '10299', 'groupId': None, 'attributes': {'title': 'Renovable', 'description': 'Energía renovable: incluye hidráulica, hidroeólica, eólica, solar fotovoltaica, solar térmica, otras renovables y residuos renovables.', 'color': '#92d050', 'type': 'Renovable', 'magnitude': None, 'composite': False, 'last-update': '2019-06-12T15:32:24.000+02:00', 'values': [{'value': 9918268.536, 'percentage': 0.3827907635999176, 'datetime': '2011-01-01T00:00:00.000+01:00'}, {'value': 7991499.8525, 'percentage': 0.34539728666246566, 'datetime': '2011-02-01T00:00:00.000+01:00'}, {'value': 9606067.697, 'percentage': 0.38313491871765465, 'datetime': '2011-03-01T00:00:00.000+01:00'}, {'value': 8123455.767, 'percentage': 0.374645327606978, 'datetime': '2011-04-01T00:00:00.000+02:00'}, {'value': 7251163.8615, 'percentage': 0.3315832492156598, 'datetime': '2011-05-01T00:00:00.000+02:00'}, {'value': 6452804.794, 'percentage': 0.28622384987819477, 'datetime': '2011-06-01T00:00:00.000+02:00'}, {'value': 6498576.444, 'percentage': 0.2712500834748904, 'datetime': '2011-07-01T00:00:00.000+02:00'}, {'value': 5727787.99, 'percentage': 0.24520399433014006, 'datetime': '2011-08-01T00:00:00.000+02:00'}, {'value': 4933369.656, 'percentage': 0.21408577261430467, 'datetime': '2011-09-01T00:00:00.000+02:00'}, {'value': 5622637.3765, 'percentage': 0.25282066301127765, 'datetime': '2011-10-01T00:00:00.000+02:00'}, {'value': 6825133.5855, 'percentage': 0.3015785344449875, 'datetime': '2011-11-01T00:00:00.000+01:00'}, {'value': 7716287.29, 'percentage': 0.32277637531821257, 'datetime': '2011-12-01T00:00:00.000+01:00'}]}}\n",
      "esta es la info de {'type': 'Renovable', 'id': '10299', 'groupId': None, 'attributes': {'title': 'Renovable', 'description': 'Energía renovable: incluye hidráulica, hidroeólica, eólica, solar fotovoltaica, solar térmica, otras renovables y residuos renovables.', 'color': '#92d050', 'type': 'Renovable', 'magnitude': None, 'composite': False, 'last-update': '2019-06-12T15:32:24.000+02:00', 'values': [{'value': 9918268.536, 'percentage': 0.3827907635999176, 'datetime': '2011-01-01T00:00:00.000+01:00'}, {'value': 7991499.8525, 'percentage': 0.34539728666246566, 'datetime': '2011-02-01T00:00:00.000+01:00'}, {'value': 9606067.697, 'percentage': 0.38313491871765465, 'datetime': '2011-03-01T00:00:00.000+01:00'}, {'value': 8123455.767, 'percentage': 0.374645327606978, 'datetime': '2011-04-01T00:00:00.000+02:00'}, {'value': 7251163.8615, 'percentage': 0.3315832492156598, 'datetime': '2011-05-01T00:00:00.000+02:00'}, {'value': 6452804.794, 'percentage': 0.28622384987819477, 'datetime': '2011-06-01T00:00:00.000+02:00'}, {'value': 6498576.444, 'percentage': 0.2712500834748904, 'datetime': '2011-07-01T00:00:00.000+02:00'}, {'value': 5727787.99, 'percentage': 0.24520399433014006, 'datetime': '2011-08-01T00:00:00.000+02:00'}, {'value': 4933369.656, 'percentage': 0.21408577261430467, 'datetime': '2011-09-01T00:00:00.000+02:00'}, {'value': 5622637.3765, 'percentage': 0.25282066301127765, 'datetime': '2011-10-01T00:00:00.000+02:00'}, {'value': 6825133.5855, 'percentage': 0.3015785344449875, 'datetime': '2011-11-01T00:00:00.000+01:00'}, {'value': 7716287.29, 'percentage': 0.32277637531821257, 'datetime': '2011-12-01T00:00:00.000+01:00'}]}}\n",
      "esta es la info de {'type': 'Renovable', 'id': '10299', 'groupId': None, 'attributes': {'title': 'Renovable', 'description': 'Energía renovable: incluye hidráulica, hidroeólica, eólica, solar fotovoltaica, solar térmica, otras renovables y residuos renovables.', 'color': '#92d050', 'type': 'Renovable', 'magnitude': None, 'composite': False, 'last-update': '2019-06-12T15:32:24.000+02:00', 'values': [{'value': 9918268.536, 'percentage': 0.3827907635999176, 'datetime': '2011-01-01T00:00:00.000+01:00'}, {'value': 7991499.8525, 'percentage': 0.34539728666246566, 'datetime': '2011-02-01T00:00:00.000+01:00'}, {'value': 9606067.697, 'percentage': 0.38313491871765465, 'datetime': '2011-03-01T00:00:00.000+01:00'}, {'value': 8123455.767, 'percentage': 0.374645327606978, 'datetime': '2011-04-01T00:00:00.000+02:00'}, {'value': 7251163.8615, 'percentage': 0.3315832492156598, 'datetime': '2011-05-01T00:00:00.000+02:00'}, {'value': 6452804.794, 'percentage': 0.28622384987819477, 'datetime': '2011-06-01T00:00:00.000+02:00'}, {'value': 6498576.444, 'percentage': 0.2712500834748904, 'datetime': '2011-07-01T00:00:00.000+02:00'}, {'value': 5727787.99, 'percentage': 0.24520399433014006, 'datetime': '2011-08-01T00:00:00.000+02:00'}, {'value': 4933369.656, 'percentage': 0.21408577261430467, 'datetime': '2011-09-01T00:00:00.000+02:00'}, {'value': 5622637.3765, 'percentage': 0.25282066301127765, 'datetime': '2011-10-01T00:00:00.000+02:00'}, {'value': 6825133.5855, 'percentage': 0.3015785344449875, 'datetime': '2011-11-01T00:00:00.000+01:00'}, {'value': 7716287.29, 'percentage': 0.32277637531821257, 'datetime': '2011-12-01T00:00:00.000+01:00'}]}}\n",
      "esta es la info de {'type': 'Renovable', 'id': '10299', 'groupId': None, 'attributes': {'title': 'Renovable', 'description': 'Energía renovable: incluye hidráulica, hidroeólica, eólica, solar fotovoltaica, solar térmica, otras renovables y residuos renovables.', 'color': '#92d050', 'type': 'Renovable', 'magnitude': None, 'composite': False, 'last-update': '2019-06-12T15:32:24.000+02:00', 'values': [{'value': 9918268.536, 'percentage': 0.3827907635999176, 'datetime': '2011-01-01T00:00:00.000+01:00'}, {'value': 7991499.8525, 'percentage': 0.34539728666246566, 'datetime': '2011-02-01T00:00:00.000+01:00'}, {'value': 9606067.697, 'percentage': 0.38313491871765465, 'datetime': '2011-03-01T00:00:00.000+01:00'}, {'value': 8123455.767, 'percentage': 0.374645327606978, 'datetime': '2011-04-01T00:00:00.000+02:00'}, {'value': 7251163.8615, 'percentage': 0.3315832492156598, 'datetime': '2011-05-01T00:00:00.000+02:00'}, {'value': 6452804.794, 'percentage': 0.28622384987819477, 'datetime': '2011-06-01T00:00:00.000+02:00'}, {'value': 6498576.444, 'percentage': 0.2712500834748904, 'datetime': '2011-07-01T00:00:00.000+02:00'}, {'value': 5727787.99, 'percentage': 0.24520399433014006, 'datetime': '2011-08-01T00:00:00.000+02:00'}, {'value': 4933369.656, 'percentage': 0.21408577261430467, 'datetime': '2011-09-01T00:00:00.000+02:00'}, {'value': 5622637.3765, 'percentage': 0.25282066301127765, 'datetime': '2011-10-01T00:00:00.000+02:00'}, {'value': 6825133.5855, 'percentage': 0.3015785344449875, 'datetime': '2011-11-01T00:00:00.000+01:00'}, {'value': 7716287.29, 'percentage': 0.32277637531821257, 'datetime': '2011-12-01T00:00:00.000+01:00'}]}}\n"
     ]
    }
   ],
   "source": [
    "for month in range (13):\n",
    "    url_electrica = f\"https://apidatos.ree.es/es/datos/generacion/evolucion-renovable-no-renovable?start_date=2011-01-01T00:00&end_date=2011-12-31T23:59&time_trunc=month\"\n",
    "    resp_energia = requests.get(url_electrica)\n",
    "    json_electrica = resp_energia.json()\n",
    "    for i in json_electrica[\"included\"]:\n",
    "        print(f\"esta es la info de {i}\")\n",
    "            \n",
    "        break"
   ]
  },
  {
   "cell_type": "code",
   "execution_count": null,
   "metadata": {},
   "outputs": [],
   "source": []
  }
 ],
 "metadata": {
  "kernelspec": {
   "display_name": "base",
   "language": "python",
   "name": "python3"
  },
  "language_info": {
   "codemirror_mode": {
    "name": "ipython",
    "version": 3
   },
   "file_extension": ".py",
   "mimetype": "text/x-python",
   "name": "python",
   "nbconvert_exporter": "python",
   "pygments_lexer": "ipython3",
   "version": "3.9.7"
  }
 },
 "nbformat": 4,
 "nbformat_minor": 2
}
