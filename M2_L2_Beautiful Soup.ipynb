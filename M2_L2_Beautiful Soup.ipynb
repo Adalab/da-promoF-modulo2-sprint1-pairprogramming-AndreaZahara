{
 "cells": [
  {
   "cell_type": "markdown",
   "metadata": {},
   "source": [
    "# Pair programming Beautiful Soup\n",
    "- Enunciado: Escribe una función llamada scrape_coches_ocasion que acepta una URL como argumento y devuelve un  \n",
    "- DataFrame de pandas con información sobre coches de ocasión encontrados en la página web especificada. \n",
    "- La función realizará las siguientes tareas:\n",
    "\n",
    "\n",
    "\n"
   ]
  },
  {
   "cell_type": "markdown",
   "metadata": {},
   "source": [
    "1. Realizará una solicitud HTTP GET a la siguiente url.\n",
    "\n",
    "\n"
   ]
  },
  {
   "cell_type": "code",
   "execution_count": null,
   "metadata": {},
   "outputs": [],
   "source": [
    "import pandas as pd\n",
    "from bs4 import BeautifulSoup\n",
    "import requests\n",
    "import re "
   ]
  },
  {
   "cell_type": "markdown",
   "metadata": {},
   "source": [
    "2. Comprobará el código de estado de la respuesta. Si el código no es 200 (OK), imprimirá un mensaje de error y retornará None."
   ]
  },
  {
   "cell_type": "code",
   "execution_count": null,
   "metadata": {},
   "outputs": [],
   "source": [
    "url_coches = \"https://www.ocasionplus.com/coches-ocasion?type%3DCAR%26sort%3DFECHAOP_DESC%26page%3D2\"\n",
    "res_coches = requests.get(url_coches)\n",
    "print(res_coches.status_code)"
   ]
  },
  {
   "cell_type": "markdown",
   "metadata": {},
   "source": [
    "3. Extraerá los nombres de los coches, los precios rebajados, los precios originales y la información de los kilómetros recorridos de la página."
   ]
  },
  {
   "cell_type": "code",
   "execution_count": null,
   "metadata": {},
   "outputs": [],
   "source": [
    "res_coches.content"
   ]
  },
  {
   "cell_type": "code",
   "execution_count": null,
   "metadata": {},
   "outputs": [],
   "source": [
    "sopa_coches = BeautifulSoup(res_coches.content,\"html.parser\")\n",
    "print(sopa_coches.prettify())\n",
    "sopa_coches"
   ]
  },
  {
   "cell_type": "code",
   "execution_count": null,
   "metadata": {},
   "outputs": [],
   "source": [
    "# Buscamos nombre de coches (H2)\n",
    "lista_nombre_coches = sopa_coches.find_all(\"h2\",{\"style\":\"overflow-x:hidden\"})\n",
    "lista_nombre_coches[:4]"
   ]
  },
  {
   "cell_type": "code",
   "execution_count": null,
   "metadata": {},
   "outputs": [],
   "source": [
    "# Limpiamos solo a nombres:\n",
    "lista_nombre_coches[0].text"
   ]
  },
  {
   "cell_type": "code",
   "execution_count": null,
   "metadata": {},
   "outputs": [],
   "source": [
    "nombre_coches = []\n",
    "for nombre in lista_nombre_coches:\n",
    "    nombre_coches.append(nombre.text)\n",
    "nombre_coches[:4]"
   ]
  },
  {
   "cell_type": "code",
   "execution_count": null,
   "metadata": {},
   "outputs": [],
   "source": [
    "# list comprehension\n",
    "\n",
    "nombre_coches = [nombre.text for nombre in lista_nombre_coches]\n",
    "nombre_coches[:4]"
   ]
  },
  {
   "cell_type": "code",
   "execution_count": null,
   "metadata": {},
   "outputs": [],
   "source": [
    "# los Precios Rebajados:\n",
    "lista_precios_rebajados = sopa_coches.find_all(\"span\",{\"class\":\"jsx-2689423372 price\"})\n",
    "lista_precios_rebajados[:4]\n",
    "\n",
    "lista_precios_rebajados = [precio_rebajado.text for precio_rebajado in lista_precios_rebajados]\n",
    "lista_precios_rebajados[:4]"
   ]
  },
  {
   "cell_type": "code",
   "execution_count": null,
   "metadata": {},
   "outputs": [],
   "source": [
    "# los Precios Originales:\n",
    "lista_precios_originales = sopa_coches.find_all(\"span\",{\"class\":\"jsx-2870186023 priceLast\"})\n",
    "lista_precios_originales[:4]\n",
    "\n",
    "lista_precios_originales = [precio_original.text for precio_original in lista_precios_originales]\n",
    "lista_precios_originales[:4]"
   ]
  },
  {
   "cell_type": "code",
   "execution_count": null,
   "metadata": {},
   "outputs": [],
   "source": [
    "# los kilómetros recorridos:\n",
    "lista_kilómetros = sopa_coches.find_all(\"span\",{\"class\":\"jsx-3960002075 detail big\"})\n",
    "lista_kilómetros [:4]\n",
    "\n",
    "lista_kilómetros = [kilómetro.text for kilómetro in lista_kilómetros]\n",
    "lista_kilómetros [:4][1]\n",
    "\n",
    "\n",
    "## ¡¡¡¡POR QUÉ NOS DA SOLO 1!!???"
   ]
  },
  {
   "cell_type": "markdown",
   "metadata": {},
   "source": [
    "4. Organizará los datos extraídos en un DataFrame de pandas con las siguientes columnas:"
   ]
  },
  {
   "cell_type": "code",
   "execution_count": 14,
   "metadata": {},
   "outputs": [],
   "source": [
    "def datos_coches(url_coches):\n",
    "    \n",
    "    url_coches = \"https://www.ocasionplus.com/coches-ocasion?type%3DCAR%26sort%3DFECHAOP_DESC%26page%3D2\"\n",
    "    res_coches = requests.get(url_coches)\n",
    "    \n",
    "    print(res_coches.status_code)\n",
    "    \n",
    "    res_coches.content\n",
    "    sopa_coches = BeautifulSoup(res_coches.content,\"html.parser\")\n",
    "    print(sopa_coches.prettify())\n",
    "    sopa_coches\n",
    "\n",
    "    lista_nombre_coches = sopa_coches.find_all(\"h2\",{\"style\":\"overflow-x:hidden\"})\n",
    "    lista_nombre_coches[:4]\n",
    "\n",
    "    lista_nombre_coches[0].text\n",
    "    nombre_coches = []\n",
    "    \n",
    "    for nombre in lista_nombre_coches:\n",
    "        nombre_coches.append(nombre.text)\n",
    "    nombre_coches[:4]\n",
    "\n",
    "    nombre_coches = [nombre.text for nombre in lista_nombre_coches]\n",
    "    nombre_coches[:4]\n",
    "\n",
    "    lista_precios_rebajados = sopa_coches.find_all(\"span\",{\"class\":\"jsx-2689423372 price\"})\n",
    "    lista_precios_rebajados[:4]\n",
    "\n",
    "    lista_precios_rebajados = [precio_rebajado.text for precio_rebajado in lista_precios_rebajados]\n",
    "    lista_precios_rebajados[:4]\n",
    "\n",
    "    lista_precios_originales = sopa_coches.find_all(\"span\",{\"class\":\"jsx-2870186023 priceLast\"})\n",
    "    lista_precios_originales[:4]\n",
    "\n",
    "    lista_precios_originales = [precio_original.text for precio_original in lista_precios_originales]\n",
    "    lista_precios_originales[:4]\n",
    "\n"
   ]
  }
 ],
 "metadata": {
  "kernelspec": {
   "display_name": "base",
   "language": "python",
   "name": "python3"
  },
  "language_info": {
   "codemirror_mode": {
    "name": "ipython",
    "version": 3
   },
   "file_extension": ".py",
   "mimetype": "text/x-python",
   "name": "python",
   "nbconvert_exporter": "python",
   "pygments_lexer": "ipython3",
   "version": "3.9.7"
  }
 },
 "nbformat": 4,
 "nbformat_minor": 2
}
